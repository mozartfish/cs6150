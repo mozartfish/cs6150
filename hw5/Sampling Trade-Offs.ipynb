{
 "cells": [
  {
   "cell_type": "code",
   "execution_count": 1,
   "metadata": {},
   "outputs": [],
   "source": [
    "# import stuff \n",
    "import random as random "
   ]
  },
  {
   "cell_type": "code",
   "execution_count": 2,
   "metadata": {},
   "outputs": [],
   "source": [
    "# set up the list to contain 10,000,000 elements\n",
    "vals = []\n",
    "\n",
    "for i in range(0,5200000):\n",
    "    vals.append(\"A\")\n",
    "\n",
    "for j in range(0, 4800000):\n",
    "    vals.append(\"B\")"
   ]
  },
  {
   "cell_type": "code",
   "execution_count": 3,
   "metadata": {},
   "outputs": [],
   "source": [
    "def twenty_random():\n",
    "    a_count = 0\n",
    "    b_count = 0\n",
    "    for i in range(0, 20):\n",
    "        index = random.randint(0, 10000000)\n",
    "        value = vals[index]\n",
    "        if value == \"A\":\n",
    "            a_count += 1\n",
    "        if value == \"B\":\n",
    "            b_count += 1\n",
    "    if a_count > b_count:\n",
    "        return 1\n",
    "    else:\n",
    "        return 0\n"
   ]
  },
  {
   "cell_type": "code",
   "execution_count": 4,
   "metadata": {},
   "outputs": [
    {
     "name": "stdout",
     "output_type": "stream",
     "text": [
      "20 sample with 100 trials\n",
      "Percentage Wins for A: 0.56\n",
      "\n",
      "100 sample with 100 trials\n",
      "Percentage Wins for A: 0.56\n",
      "\n",
      "400 sample with 100 trials\n",
      "Percentage Wins for A: 0.78\n",
      "\n",
      "Percentage Wins for A: 0.81\n"
     ]
    }
   ],
   "source": [
    "def get_randoms(val):\n",
    "    indexes = []\n",
    "    a_count = 0\n",
    "    b_count = 0\n",
    "    \n",
    "#     to ensure that we do not choose the same index\n",
    "#     run a while loop until we get a unique index\n",
    "    for i in range(0, val):\n",
    "        index = random.randint(0, 10000000)\n",
    "        if index not in indexes:\n",
    "            indexes.append(index)\n",
    "        else:\n",
    "            while index in indexes:\n",
    "                index = random.randint(0, 10000000)\n",
    "            indexes.append(index)\n",
    "    return indexes\n",
    "\n",
    "\n",
    "twenty_random = get_randoms(20)\n",
    "hundred_random = get_randoms(100)\n",
    "four_hundred_random = get_randoms(400)\n",
    "                          \n",
    "def test(size):\n",
    "    a_count = 0\n",
    "    b_count = 0\n",
    "    sample = get_randoms(size)\n",
    "    for j in range(0, len(sample)):\n",
    "        index = sample[j]\n",
    "        value = vals[index]\n",
    "        if value == \"A\":\n",
    "            a_count += 1\n",
    "        else:\n",
    "            b_count += 1\n",
    "    \n",
    "    return a_count > b_count\n",
    "\n",
    "\n",
    "def trials(num_trials, size):\n",
    "    a_wins = 0\n",
    "    b_wins = 0\n",
    "    \n",
    "    for j in range(0, num_trials):\n",
    "        result = test(size)\n",
    "        if result == True:\n",
    "            a_wins += 1\n",
    "        else:\n",
    "            b_wins += 1\n",
    "    \n",
    "    print(f\"Percentage Wins for A: {a_wins / num_trials}\")\n",
    "\n",
    "print(\"20 sample with 100 trials\")\n",
    "trials(100, 20)\n",
    "print()\n",
    "print(\"100 sample with 100 trials\")\n",
    "trials(100, 100)\n",
    "print()\n",
    "print(\"400 sample with 100 trials\")\n",
    "trials(100, 400)\n",
    "print()\n",
    "trials(100, 900)\n",
    "\n",
    "            \n",
    "        \n",
    "\n",
    "\n",
    "        "
   ]
  },
  {
   "cell_type": "code",
   "execution_count": 5,
   "metadata": {},
   "outputs": [],
   "source": [
    "# Part C\n",
    "new_vals = []\n",
    "for i in range(0,5500000):\n",
    "    new_vals.append(\"A\")\n",
    "\n",
    "for j in range(0, 4500000):\n",
    "    new_vals.append(\"B\")"
   ]
  },
  {
   "cell_type": "code",
   "execution_count": 6,
   "metadata": {},
   "outputs": [],
   "source": [
    "def new_test(size):\n",
    "    a_count = 0\n",
    "    b_count = 0\n",
    "    sample = get_randoms(size)\n",
    "    for j in range(0, len(sample)):\n",
    "        index = sample[j]\n",
    "        value = new_vals[index]\n",
    "        if value == \"A\":\n",
    "            a_count += 1\n",
    "        else:\n",
    "            b_count += 1\n",
    "    \n",
    "    return a_count > b_count\n",
    "\n",
    "\n",
    "def new_trials(num_trials, size):\n",
    "    a_wins = 0\n",
    "    b_wins = 0\n",
    "    \n",
    "    for j in range(0, num_trials):\n",
    "        result = new_test(size)\n",
    "        if result == True:\n",
    "            a_wins += 1\n",
    "        else:\n",
    "            b_wins += 1\n",
    "    \n",
    "    print(f\"Percentage Wins for A: {a_wins / num_trials}\")"
   ]
  },
  {
   "cell_type": "code",
   "execution_count": 46,
   "metadata": {},
   "outputs": [
    {
     "name": "stdout",
     "output_type": "stream",
     "text": [
      "Attempt to get probability of 0.9 with new input\n",
      "Percentage Wins for A: 0.9\n"
     ]
    }
   ],
   "source": [
    "print(\"Attempt to get probability of 0.9 with new input\")\n",
    "new_trials(100, 175)"
   ]
  },
  {
   "cell_type": "code",
   "execution_count": null,
   "metadata": {},
   "outputs": [],
   "source": []
  }
 ],
 "metadata": {
  "kernelspec": {
   "display_name": "Python 3",
   "language": "python",
   "name": "python3"
  },
  "language_info": {
   "codemirror_mode": {
    "name": "ipython",
    "version": 3
   },
   "file_extension": ".py",
   "mimetype": "text/x-python",
   "name": "python",
   "nbconvert_exporter": "python",
   "pygments_lexer": "ipython3",
   "version": "3.8.3"
  }
 },
 "nbformat": 4,
 "nbformat_minor": 4
}
